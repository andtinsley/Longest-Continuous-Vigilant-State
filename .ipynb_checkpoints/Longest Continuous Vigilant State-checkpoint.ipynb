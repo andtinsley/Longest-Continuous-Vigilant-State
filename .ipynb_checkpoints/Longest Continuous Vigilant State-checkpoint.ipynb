{
 "cells": [
  {
   "cell_type": "code",
   "execution_count": 30,
   "id": "ruled-outline",
   "metadata": {},
   "outputs": [],
   "source": [
    "import pandas as pd\n",
    "import os\n",
    "import re\n",
    "from pathlib import Path\n",
    "import glob\n",
    "\n",
    "#collect text file\n",
    "# Use the for loop to iterate through the list you just created, and open the files\n",
    "path = os.getcwd()\n",
    "csv_files = glob.glob(os.path.join(path, \"*.txt\"))\n",
    "# loop over the list of csv files\n",
    "for f in csv_files:\n",
    "    d = pd.read_csv(f, skiprows=17, sep='\\t')\n",
    "    d['Time'] = pd.to_datetime(d['Time'])\n",
    "    d = d[1:]\n",
    "    d = d[['Time', 'Stage']]\n",
    "\n",
    "    d['Time'] = pd.to_datetime(d['Time'], format='%m/%d/%Y %H:%M:%S')\n",
    "    ##round time\n",
    "    d['Hour'] = d['Time'].dt.floor(freq='H')\n",
    "\n",
    "    # Full StageList\n",
    "    StageList = d[['Stage']]\n",
    "    StageList = StageList.drop_duplicates()\n",
    "    StageList['TimeInStage'] = 0\n",
    "    StageList['key'] = 1\n",
    "\n",
    "    # list out all of the dates used\n",
    "    Hours = d[['Hour']]\n",
    "    Hours = Hours.drop_duplicates()\n",
    "    Hours['key'] = 1\n",
    "\n",
    "    StageNotIdentified = pd.merge(Hours, StageList, on='key').drop(\"key\", 1)\n",
    "    StageNotIdentified = StageNotIdentified.groupby(['Hour', 'Stage']).sum('TimeInStage').reset_index()\n",
    "    ##count as four seconds for all rows\n",
    "    d['TimeInStage'] = 4\n",
    "\n",
    "    d = d.groupby(['Hour', 'Stage']).sum('TimeInStage').reset_index()\n",
    "    \n",
    "    dMerge = d[['Hour', 'Stage']]\n",
    "    StageNotIdentified = StageNotIdentified[['Hour', 'Stage']]\n",
    "\n",
    "    outer_join = StageNotIdentified.merge(dMerge, how='outer', indicator=True)\n",
    "    anti_join = outer_join[~(outer_join._merge == 'both')].drop('_merge', axis=1)\n",
    "    anti_join['TimeInStage'] = 0\n",
    "\n",
    "    d = pd.concat([d, anti_join])\n",
    "    d = d.sort_values(['Hour', 'Stage'])\n",
    "    d = d.groupby(['Stage'])['TimeInStage'].agg('sum')\n",
    "    d=d.sort_values(ascending = False).head(1)\n",
    "    d.to_csv('Output.csv')"
   ]
  }
 ],
 "metadata": {
  "kernelspec": {
   "display_name": "Python 3",
   "language": "python",
   "name": "python3"
  },
  "language_info": {
   "codemirror_mode": {
    "name": "ipython",
    "version": 3
   },
   "file_extension": ".py",
   "mimetype": "text/x-python",
   "name": "python",
   "nbconvert_exporter": "python",
   "pygments_lexer": "ipython3",
   "version": "3.8.5"
  }
 },
 "nbformat": 4,
 "nbformat_minor": 5
}
