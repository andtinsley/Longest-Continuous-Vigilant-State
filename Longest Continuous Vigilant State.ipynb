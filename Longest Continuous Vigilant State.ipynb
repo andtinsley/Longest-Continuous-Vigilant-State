{
 "cells": [
  {
   "cell_type": "code",
   "execution_count": 141,
   "id": "ruled-outline",
   "metadata": {},
   "outputs": [],
   "source": [
    "import pandas as pd\n",
    "import os\n",
    "from pathlib import Path\n",
    "import glob\n",
    "\n",
    "#empty container for appending data passed in for loop\n",
    "FinalDF = []\n",
    "\n",
    "#collect text file\n",
    "# Use the for loop to iterate through the list you just created, and open the files\n",
    "path = os.getcwd()\n",
    "csv_files = glob.glob(os.path.join(path, \"*.txt\"))\n",
    "# loop over the list of csv files\n",
    "for f in csv_files:\n",
    "    d = pd.read_csv(f, skiprows=17, sep='\\t')\n",
    "    d['Time'] = pd.to_datetime(d['Time'], format='%m/%d/%Y %H:%M:%S')\n",
    "#remove first row\n",
    "    d = d[1:]\n",
    "# find if row below is different stage then current \n",
    "    d= d[['Time', 'Stage']]\n",
    "    d['Stage']=d['Stage'].astype('category')\n",
    "    d['nStage']=d['Stage'].shift(-1)\n",
    "    i=d.nStage\n",
    "    d['Inc']=i.ne(i.shift()).cumsum()\n",
    "    d['Inc']=d['Inc'].shift(+1).bfill()\n",
    "    d=d.drop(['nStage'], 1)\n",
    "    #time in stage\n",
    "    d['TimeInStage'] = 4\n",
    "    d=d.groupby(['Stage', 'Inc'])['TimeInStage'].agg('sum').reset_index()\n",
    "    d=d.groupby(['Stage'])['TimeInStage'].agg('max').reset_index()\n",
    "    d=d.set_index('Stage')\n",
    "    \n",
    "#add filename to column file    \n",
    "    fileString = f.split('\\\\')[-1]\n",
    "    d['File'] = fileString\n",
    "    d.reset_index(inplace=True)\n",
    "#pivot    \n",
    "    d=d.pivot(index='File', columns='Stage', values='TimeInStage')\n",
    "    \n",
    "    FinalDF.append(d)\n",
    "\n",
    "#concat to pandas DF and Export as csv\n",
    "FinalDF=pd.concat(FinalDF)\n",
    "FinalDF.to_csv('LongestVigilantState.csv')"
   ]
  }
 ],
 "metadata": {
  "kernelspec": {
   "display_name": "Python 3",
   "language": "python",
   "name": "python3"
  },
  "language_info": {
   "codemirror_mode": {
    "name": "ipython",
    "version": 3
   },
   "file_extension": ".py",
   "mimetype": "text/x-python",
   "name": "python",
   "nbconvert_exporter": "python",
   "pygments_lexer": "ipython3",
   "version": "3.8.5"
  }
 },
 "nbformat": 4,
 "nbformat_minor": 5
}
